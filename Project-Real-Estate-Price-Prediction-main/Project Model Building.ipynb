{
 "cells": [
  {
   "cell_type": "markdown",
   "id": "15b1b900",
   "metadata": {},
   "source": [
    "## Real Estate (99acres.com) Model Building"
   ]
  },
  {
   "cell_type": "markdown",
   "id": "a77b0036",
   "metadata": {},
   "source": [
    "## 1. Import sklearn Libraries"
   ]
  },
  {
   "cell_type": "code",
   "execution_count": 2,
   "id": "e385cfdc",
   "metadata": {},
   "outputs": [],
   "source": [
    "import numpy as np\n",
    "import pandas as pd\n",
    "import seaborn as sns\n",
    "import matplotlib.pyplot as plt\n",
    "import matplotlib.pylab as pylab\n",
    "from sklearn.preprocessing import LabelEncoder\n",
    "from sklearn.model_selection import train_test_split\n",
    "\n",
    "import warnings\n",
    "warnings.filterwarnings('ignore')"
   ]
  },
  {
   "cell_type": "markdown",
   "id": "0c922116",
   "metadata": {},
   "source": [
    "## 2. Import Dataset"
   ]
  },
  {
   "cell_type": "code",
   "execution_count": 4,
   "id": "5bd6e3d3",
   "metadata": {},
   "outputs": [
    {
     "data": {
      "text/html": [
       "<div>\n",
       "<style scoped>\n",
       "    .dataframe tbody tr th:only-of-type {\n",
       "        vertical-align: middle;\n",
       "    }\n",
       "\n",
       "    .dataframe tbody tr th {\n",
       "        vertical-align: top;\n",
       "    }\n",
       "\n",
       "    .dataframe thead th {\n",
       "        text-align: right;\n",
       "    }\n",
       "</style>\n",
       "<table border=\"1\" class=\"dataframe\">\n",
       "  <thead>\n",
       "    <tr style=\"text-align: right;\">\n",
       "      <th></th>\n",
       "      <th>Property_Name</th>\n",
       "      <th>Location</th>\n",
       "      <th>Region</th>\n",
       "      <th>Property_Age</th>\n",
       "      <th>Availability</th>\n",
       "      <th>Area_Tpye</th>\n",
       "      <th>Area_SqFt</th>\n",
       "      <th>Rate_SqFt</th>\n",
       "      <th>Floor_No</th>\n",
       "      <th>Bedroom</th>\n",
       "      <th>Bathroom</th>\n",
       "      <th>Price_Lakh</th>\n",
       "    </tr>\n",
       "  </thead>\n",
       "  <tbody>\n",
       "    <tr>\n",
       "      <th>0</th>\n",
       "      <td>Omkar Alta Monte</td>\n",
       "      <td>W E Highway Malad East Mumbai</td>\n",
       "      <td>Malad Mumbai</td>\n",
       "      <td>0 to 1 Year</td>\n",
       "      <td>Ready To Move</td>\n",
       "      <td>Super Built Up Area</td>\n",
       "      <td>2900.0</td>\n",
       "      <td>17241</td>\n",
       "      <td>14</td>\n",
       "      <td>3</td>\n",
       "      <td>4</td>\n",
       "      <td>500.0</td>\n",
       "    </tr>\n",
       "    <tr>\n",
       "      <th>1</th>\n",
       "      <td>T Bhimjyani Neelkanth Woods</td>\n",
       "      <td>Manpada Thane Mumbai</td>\n",
       "      <td>Manpada Thane</td>\n",
       "      <td>1 to 5 Year</td>\n",
       "      <td>Ready To Move</td>\n",
       "      <td>Super Built Up Area</td>\n",
       "      <td>1900.0</td>\n",
       "      <td>12631</td>\n",
       "      <td>8</td>\n",
       "      <td>3</td>\n",
       "      <td>3</td>\n",
       "      <td>240.0</td>\n",
       "    </tr>\n",
       "    <tr>\n",
       "      <th>2</th>\n",
       "      <td>Legend 1 Pramila Nagar</td>\n",
       "      <td>Dahisar West Mumbai</td>\n",
       "      <td>Dahisar Mumbai</td>\n",
       "      <td>10+ Year</td>\n",
       "      <td>Ready To Move</td>\n",
       "      <td>Super Built Up Area</td>\n",
       "      <td>595.0</td>\n",
       "      <td>15966</td>\n",
       "      <td>3</td>\n",
       "      <td>1</td>\n",
       "      <td>2</td>\n",
       "      <td>95.0</td>\n",
       "    </tr>\n",
       "    <tr>\n",
       "      <th>3</th>\n",
       "      <td>Unnamed Property</td>\n",
       "      <td>Vidyavihar West Vidyavihar West Central Mumbai...</td>\n",
       "      <td>Central Mumbai</td>\n",
       "      <td>5 to 10 Year</td>\n",
       "      <td>Ready To Move</td>\n",
       "      <td>Built Up Area</td>\n",
       "      <td>1450.0</td>\n",
       "      <td>25862</td>\n",
       "      <td>1</td>\n",
       "      <td>3</td>\n",
       "      <td>3</td>\n",
       "      <td>375.0</td>\n",
       "    </tr>\n",
       "    <tr>\n",
       "      <th>4</th>\n",
       "      <td>Unnamed Property</td>\n",
       "      <td>176 Cst Road Kalina Mumbai 400098 Santacruz Ea...</td>\n",
       "      <td>Santacruz Mumbai</td>\n",
       "      <td>5 to 10 Year</td>\n",
       "      <td>Ready To Move</td>\n",
       "      <td>Carpet Area</td>\n",
       "      <td>876.0</td>\n",
       "      <td>39954</td>\n",
       "      <td>5</td>\n",
       "      <td>2</td>\n",
       "      <td>2</td>\n",
       "      <td>350.0</td>\n",
       "    </tr>\n",
       "    <tr>\n",
       "      <th>...</th>\n",
       "      <td>...</td>\n",
       "      <td>...</td>\n",
       "      <td>...</td>\n",
       "      <td>...</td>\n",
       "      <td>...</td>\n",
       "      <td>...</td>\n",
       "      <td>...</td>\n",
       "      <td>...</td>\n",
       "      <td>...</td>\n",
       "      <td>...</td>\n",
       "      <td>...</td>\n",
       "      <td>...</td>\n",
       "    </tr>\n",
       "    <tr>\n",
       "      <th>2526</th>\n",
       "      <td>Shagun White Woods</td>\n",
       "      <td>Sector 23 Ulwe Navi Mumbai Mumbai</td>\n",
       "      <td>Ulwe Navi-Mumbai</td>\n",
       "      <td>1 to 5 Year</td>\n",
       "      <td>Ready To Move</td>\n",
       "      <td>Built Up Area</td>\n",
       "      <td>1180.0</td>\n",
       "      <td>10338</td>\n",
       "      <td>2</td>\n",
       "      <td>2</td>\n",
       "      <td>2</td>\n",
       "      <td>122.0</td>\n",
       "    </tr>\n",
       "    <tr>\n",
       "      <th>2527</th>\n",
       "      <td>Guru Anant</td>\n",
       "      <td>Sector 2 Ulwe Navi Mumbai Mumbai</td>\n",
       "      <td>Ulwe Navi-Mumbai</td>\n",
       "      <td>0 to 1 Year</td>\n",
       "      <td>Ready To Move</td>\n",
       "      <td>Built Up Area</td>\n",
       "      <td>1090.0</td>\n",
       "      <td>8073</td>\n",
       "      <td>11</td>\n",
       "      <td>2</td>\n",
       "      <td>2</td>\n",
       "      <td>88.0</td>\n",
       "    </tr>\n",
       "    <tr>\n",
       "      <th>2528</th>\n",
       "      <td>Balaji Mayuresh Delta</td>\n",
       "      <td>Ulwe Navi Mumbai Mumbai</td>\n",
       "      <td>Ulwe Navi-Mumbai</td>\n",
       "      <td>1 to 5 Year</td>\n",
       "      <td>Ready To Move</td>\n",
       "      <td>Built Up Area</td>\n",
       "      <td>1295.0</td>\n",
       "      <td>10579</td>\n",
       "      <td>6</td>\n",
       "      <td>2</td>\n",
       "      <td>2</td>\n",
       "      <td>137.0</td>\n",
       "    </tr>\n",
       "    <tr>\n",
       "      <th>2529</th>\n",
       "      <td>Balaji Mayuresh Delta</td>\n",
       "      <td>Ulwe Navi Mumbai Mumbai</td>\n",
       "      <td>Ulwe Navi-Mumbai</td>\n",
       "      <td>1 to 5 Year</td>\n",
       "      <td>Ready To Move</td>\n",
       "      <td>Built Up Area</td>\n",
       "      <td>1850.0</td>\n",
       "      <td>9243</td>\n",
       "      <td>6</td>\n",
       "      <td>3</td>\n",
       "      <td>3</td>\n",
       "      <td>171.0</td>\n",
       "    </tr>\n",
       "    <tr>\n",
       "      <th>2530</th>\n",
       "      <td>Gurukrupa Tulsi Heights</td>\n",
       "      <td>Ulwe Navi Mumbai Mumbai</td>\n",
       "      <td>Ulwe Navi-Mumbai</td>\n",
       "      <td>0 to 1 Year</td>\n",
       "      <td>Ready To Move</td>\n",
       "      <td>Built Up Area</td>\n",
       "      <td>1100.0</td>\n",
       "      <td>8636</td>\n",
       "      <td>4</td>\n",
       "      <td>2</td>\n",
       "      <td>2</td>\n",
       "      <td>95.0</td>\n",
       "    </tr>\n",
       "  </tbody>\n",
       "</table>\n",
       "<p>2531 rows × 12 columns</p>\n",
       "</div>"
      ],
      "text/plain": [
       "                     Property_Name  \\\n",
       "0                Omkar Alta Monte    \n",
       "1     T Bhimjyani Neelkanth Woods    \n",
       "2          Legend 1 Pramila Nagar    \n",
       "3                 Unnamed Property   \n",
       "4                 Unnamed Property   \n",
       "...                            ...   \n",
       "2526           Shagun White Woods    \n",
       "2527                   Guru Anant    \n",
       "2528        Balaji Mayuresh Delta    \n",
       "2529        Balaji Mayuresh Delta    \n",
       "2530      Gurukrupa Tulsi Heights    \n",
       "\n",
       "                                               Location            Region  \\\n",
       "0                         W E Highway Malad East Mumbai      Malad Mumbai   \n",
       "1                                  Manpada Thane Mumbai     Manpada Thane   \n",
       "2                                   Dahisar West Mumbai    Dahisar Mumbai   \n",
       "3     Vidyavihar West Vidyavihar West Central Mumbai...    Central Mumbai   \n",
       "4     176 Cst Road Kalina Mumbai 400098 Santacruz Ea...  Santacruz Mumbai   \n",
       "...                                                 ...               ...   \n",
       "2526                  Sector 23 Ulwe Navi Mumbai Mumbai  Ulwe Navi-Mumbai   \n",
       "2527                   Sector 2 Ulwe Navi Mumbai Mumbai  Ulwe Navi-Mumbai   \n",
       "2528                            Ulwe Navi Mumbai Mumbai  Ulwe Navi-Mumbai   \n",
       "2529                            Ulwe Navi Mumbai Mumbai  Ulwe Navi-Mumbai   \n",
       "2530                            Ulwe Navi Mumbai Mumbai  Ulwe Navi-Mumbai   \n",
       "\n",
       "      Property_Age   Availability            Area_Tpye  Area_SqFt  Rate_SqFt  \\\n",
       "0      0 to 1 Year  Ready To Move  Super Built Up Area     2900.0      17241   \n",
       "1      1 to 5 Year  Ready To Move  Super Built Up Area     1900.0      12631   \n",
       "2         10+ Year  Ready To Move  Super Built Up Area      595.0      15966   \n",
       "3     5 to 10 Year  Ready To Move        Built Up Area     1450.0      25862   \n",
       "4     5 to 10 Year  Ready To Move          Carpet Area      876.0      39954   \n",
       "...            ...            ...                  ...        ...        ...   \n",
       "2526   1 to 5 Year  Ready To Move        Built Up Area     1180.0      10338   \n",
       "2527   0 to 1 Year  Ready To Move        Built Up Area     1090.0       8073   \n",
       "2528   1 to 5 Year  Ready To Move        Built Up Area     1295.0      10579   \n",
       "2529   1 to 5 Year  Ready To Move        Built Up Area     1850.0       9243   \n",
       "2530   0 to 1 Year  Ready To Move        Built Up Area     1100.0       8636   \n",
       "\n",
       "      Floor_No  Bedroom  Bathroom  Price_Lakh  \n",
       "0           14        3         4       500.0  \n",
       "1            8        3         3       240.0  \n",
       "2            3        1         2        95.0  \n",
       "3            1        3         3       375.0  \n",
       "4            5        2         2       350.0  \n",
       "...        ...      ...       ...         ...  \n",
       "2526         2        2         2       122.0  \n",
       "2527        11        2         2        88.0  \n",
       "2528         6        2         2       137.0  \n",
       "2529         6        3         3       171.0  \n",
       "2530         4        2         2        95.0  \n",
       "\n",
       "[2531 rows x 12 columns]"
      ]
     },
     "execution_count": 4,
     "metadata": {},
     "output_type": "execute_result"
    }
   ],
   "source": [
    "mum_prop = pd.read_csv('Datasets/Final_Project.csv')\n",
    "mum_prop"
   ]
  },
  {
   "cell_type": "markdown",
   "id": "2000ec59",
   "metadata": {},
   "source": [
    "## 3. Data Understanding"
   ]
  },
  {
   "cell_type": "code",
   "execution_count": 5,
   "id": "e3ff6ae7",
   "metadata": {},
   "outputs": [
    {
     "data": {
      "text/plain": [
       "(2531, 12)"
      ]
     },
     "execution_count": 5,
     "metadata": {},
     "output_type": "execute_result"
    }
   ],
   "source": [
    "mum_prop.shape"
   ]
  },
  {
   "cell_type": "code",
   "execution_count": 6,
   "id": "72f33c7d",
   "metadata": {},
   "outputs": [
    {
     "name": "stdout",
     "output_type": "stream",
     "text": [
      "<class 'pandas.core.frame.DataFrame'>\n",
      "Index: 2531 entries, 0 to 2530\n",
      "Data columns (total 12 columns):\n",
      " #   Column         Non-Null Count  Dtype  \n",
      "---  ------         --------------  -----  \n",
      " 0   Property_Name  2531 non-null   object \n",
      " 1   Location       2531 non-null   object \n",
      " 2   Region         2531 non-null   object \n",
      " 3   Property_Age   2531 non-null   object \n",
      " 4   Availability   2531 non-null   object \n",
      " 5   Area_Tpye      2531 non-null   object \n",
      " 6   Area_SqFt      2531 non-null   float64\n",
      " 7   Rate_SqFt      2531 non-null   int64  \n",
      " 8   Floor_No       2531 non-null   int64  \n",
      " 9   Bedroom        2531 non-null   int64  \n",
      " 10  Bathroom       2531 non-null   int64  \n",
      " 11  Price_Lakh     2531 non-null   float64\n",
      "dtypes: float64(2), int64(4), object(6)\n",
      "memory usage: 257.1+ KB\n"
     ]
    }
   ],
   "source": [
    "mum_prop.info()"
   ]
  },
  {
   "cell_type": "code",
   "execution_count": 7,
   "id": "9fbe273e",
   "metadata": {},
   "outputs": [
    {
     "data": {
      "text/plain": [
       "Property_Name    0\n",
       "Location         0\n",
       "Region           0\n",
       "Property_Age     0\n",
       "Availability     0\n",
       "Area_Tpye        0\n",
       "Area_SqFt        0\n",
       "Rate_SqFt        0\n",
       "Floor_No         0\n",
       "Bedroom          0\n",
       "Bathroom         0\n",
       "Price_Lakh       0\n",
       "dtype: int64"
      ]
     },
     "execution_count": 7,
     "metadata": {},
     "output_type": "execute_result"
    }
   ],
   "source": [
    "mum_prop.isna().sum()"
   ]
  },
  {
   "cell_type": "code",
   "execution_count": 8,
   "id": "7c8116da",
   "metadata": {},
   "outputs": [
    {
     "data": {
      "text/html": [
       "<div>\n",
       "<style scoped>\n",
       "    .dataframe tbody tr th:only-of-type {\n",
       "        vertical-align: middle;\n",
       "    }\n",
       "\n",
       "    .dataframe tbody tr th {\n",
       "        vertical-align: top;\n",
       "    }\n",
       "\n",
       "    .dataframe thead th {\n",
       "        text-align: right;\n",
       "    }\n",
       "</style>\n",
       "<table border=\"1\" class=\"dataframe\">\n",
       "  <thead>\n",
       "    <tr style=\"text-align: right;\">\n",
       "      <th></th>\n",
       "      <th>Area_SqFt</th>\n",
       "      <th>Rate_SqFt</th>\n",
       "      <th>Floor_No</th>\n",
       "      <th>Bedroom</th>\n",
       "      <th>Bathroom</th>\n",
       "      <th>Price_Lakh</th>\n",
       "    </tr>\n",
       "  </thead>\n",
       "  <tbody>\n",
       "    <tr>\n",
       "      <th>count</th>\n",
       "      <td>2531.0</td>\n",
       "      <td>2531.0</td>\n",
       "      <td>2531.0</td>\n",
       "      <td>2531.0</td>\n",
       "      <td>2531.0</td>\n",
       "      <td>2531.0</td>\n",
       "    </tr>\n",
       "    <tr>\n",
       "      <th>mean</th>\n",
       "      <td>949.0</td>\n",
       "      <td>16554.0</td>\n",
       "      <td>9.0</td>\n",
       "      <td>2.0</td>\n",
       "      <td>2.0</td>\n",
       "      <td>161.0</td>\n",
       "    </tr>\n",
       "    <tr>\n",
       "      <th>std</th>\n",
       "      <td>487.0</td>\n",
       "      <td>10204.0</td>\n",
       "      <td>8.0</td>\n",
       "      <td>1.0</td>\n",
       "      <td>1.0</td>\n",
       "      <td>162.0</td>\n",
       "    </tr>\n",
       "    <tr>\n",
       "      <th>min</th>\n",
       "      <td>185.0</td>\n",
       "      <td>1808.0</td>\n",
       "      <td>-1.0</td>\n",
       "      <td>1.0</td>\n",
       "      <td>1.0</td>\n",
       "      <td>13.0</td>\n",
       "    </tr>\n",
       "    <tr>\n",
       "      <th>25%</th>\n",
       "      <td>634.0</td>\n",
       "      <td>8751.0</td>\n",
       "      <td>3.0</td>\n",
       "      <td>1.0</td>\n",
       "      <td>2.0</td>\n",
       "      <td>66.0</td>\n",
       "    </tr>\n",
       "    <tr>\n",
       "      <th>50%</th>\n",
       "      <td>850.0</td>\n",
       "      <td>13636.0</td>\n",
       "      <td>6.0</td>\n",
       "      <td>2.0</td>\n",
       "      <td>2.0</td>\n",
       "      <td>110.0</td>\n",
       "    </tr>\n",
       "    <tr>\n",
       "      <th>75%</th>\n",
       "      <td>1150.0</td>\n",
       "      <td>22314.0</td>\n",
       "      <td>12.0</td>\n",
       "      <td>2.0</td>\n",
       "      <td>2.0</td>\n",
       "      <td>197.0</td>\n",
       "    </tr>\n",
       "    <tr>\n",
       "      <th>max</th>\n",
       "      <td>5000.0</td>\n",
       "      <td>55611.0</td>\n",
       "      <td>55.0</td>\n",
       "      <td>6.0</td>\n",
       "      <td>7.0</td>\n",
       "      <td>1900.0</td>\n",
       "    </tr>\n",
       "  </tbody>\n",
       "</table>\n",
       "</div>"
      ],
      "text/plain": [
       "       Area_SqFt  Rate_SqFt  Floor_No  Bedroom  Bathroom  Price_Lakh\n",
       "count     2531.0     2531.0    2531.0   2531.0    2531.0      2531.0\n",
       "mean       949.0    16554.0       9.0      2.0       2.0       161.0\n",
       "std        487.0    10204.0       8.0      1.0       1.0       162.0\n",
       "min        185.0     1808.0      -1.0      1.0       1.0        13.0\n",
       "25%        634.0     8751.0       3.0      1.0       2.0        66.0\n",
       "50%        850.0    13636.0       6.0      2.0       2.0       110.0\n",
       "75%       1150.0    22314.0      12.0      2.0       2.0       197.0\n",
       "max       5000.0    55611.0      55.0      6.0       7.0      1900.0"
      ]
     },
     "execution_count": 8,
     "metadata": {},
     "output_type": "execute_result"
    }
   ],
   "source": [
    "mum_prop.describe().round()"
   ]
  },
  {
   "cell_type": "markdown",
   "id": "c50c4747",
   "metadata": {},
   "source": [
    "## 4. Feature Engineering"
   ]
  },
  {
   "cell_type": "markdown",
   "id": "fcaec645",
   "metadata": {},
   "source": [
    "### 4.1 Drop Unwanted Columns"
   ]
  },
  {
   "cell_type": "code",
   "execution_count": 9,
   "id": "dd2e859c",
   "metadata": {
    "scrolled": false
   },
   "outputs": [
    {
     "data": {
      "text/html": [
       "<div>\n",
       "<style scoped>\n",
       "    .dataframe tbody tr th:only-of-type {\n",
       "        vertical-align: middle;\n",
       "    }\n",
       "\n",
       "    .dataframe tbody tr th {\n",
       "        vertical-align: top;\n",
       "    }\n",
       "\n",
       "    .dataframe thead th {\n",
       "        text-align: right;\n",
       "    }\n",
       "</style>\n",
       "<table border=\"1\" class=\"dataframe\">\n",
       "  <thead>\n",
       "    <tr style=\"text-align: right;\">\n",
       "      <th></th>\n",
       "      <th>Property_Name</th>\n",
       "      <th>Location</th>\n",
       "      <th>Region</th>\n",
       "      <th>Property_Age</th>\n",
       "      <th>Availability</th>\n",
       "      <th>Area_Tpye</th>\n",
       "      <th>Area_SqFt</th>\n",
       "      <th>Rate_SqFt</th>\n",
       "      <th>Floor_No</th>\n",
       "      <th>Bedroom</th>\n",
       "      <th>Bathroom</th>\n",
       "      <th>Price_Lakh</th>\n",
       "    </tr>\n",
       "  </thead>\n",
       "  <tbody>\n",
       "    <tr>\n",
       "      <th>0</th>\n",
       "      <td>Omkar Alta Monte</td>\n",
       "      <td>W E Highway Malad East Mumbai</td>\n",
       "      <td>Malad Mumbai</td>\n",
       "      <td>0 to 1 Year</td>\n",
       "      <td>Ready To Move</td>\n",
       "      <td>Super Built Up Area</td>\n",
       "      <td>2900.0</td>\n",
       "      <td>17241</td>\n",
       "      <td>14</td>\n",
       "      <td>3</td>\n",
       "      <td>4</td>\n",
       "      <td>500.0</td>\n",
       "    </tr>\n",
       "    <tr>\n",
       "      <th>1</th>\n",
       "      <td>T Bhimjyani Neelkanth Woods</td>\n",
       "      <td>Manpada Thane Mumbai</td>\n",
       "      <td>Manpada Thane</td>\n",
       "      <td>1 to 5 Year</td>\n",
       "      <td>Ready To Move</td>\n",
       "      <td>Super Built Up Area</td>\n",
       "      <td>1900.0</td>\n",
       "      <td>12631</td>\n",
       "      <td>8</td>\n",
       "      <td>3</td>\n",
       "      <td>3</td>\n",
       "      <td>240.0</td>\n",
       "    </tr>\n",
       "    <tr>\n",
       "      <th>2</th>\n",
       "      <td>Legend 1 Pramila Nagar</td>\n",
       "      <td>Dahisar West Mumbai</td>\n",
       "      <td>Dahisar Mumbai</td>\n",
       "      <td>10+ Year</td>\n",
       "      <td>Ready To Move</td>\n",
       "      <td>Super Built Up Area</td>\n",
       "      <td>595.0</td>\n",
       "      <td>15966</td>\n",
       "      <td>3</td>\n",
       "      <td>1</td>\n",
       "      <td>2</td>\n",
       "      <td>95.0</td>\n",
       "    </tr>\n",
       "    <tr>\n",
       "      <th>3</th>\n",
       "      <td>Unnamed Property</td>\n",
       "      <td>Vidyavihar West Vidyavihar West Central Mumbai...</td>\n",
       "      <td>Central Mumbai</td>\n",
       "      <td>5 to 10 Year</td>\n",
       "      <td>Ready To Move</td>\n",
       "      <td>Built Up Area</td>\n",
       "      <td>1450.0</td>\n",
       "      <td>25862</td>\n",
       "      <td>1</td>\n",
       "      <td>3</td>\n",
       "      <td>3</td>\n",
       "      <td>375.0</td>\n",
       "    </tr>\n",
       "    <tr>\n",
       "      <th>4</th>\n",
       "      <td>Unnamed Property</td>\n",
       "      <td>176 Cst Road Kalina Mumbai 400098 Santacruz Ea...</td>\n",
       "      <td>Santacruz Mumbai</td>\n",
       "      <td>5 to 10 Year</td>\n",
       "      <td>Ready To Move</td>\n",
       "      <td>Carpet Area</td>\n",
       "      <td>876.0</td>\n",
       "      <td>39954</td>\n",
       "      <td>5</td>\n",
       "      <td>2</td>\n",
       "      <td>2</td>\n",
       "      <td>350.0</td>\n",
       "    </tr>\n",
       "  </tbody>\n",
       "</table>\n",
       "</div>"
      ],
      "text/plain": [
       "                  Property_Name  \\\n",
       "0             Omkar Alta Monte    \n",
       "1  T Bhimjyani Neelkanth Woods    \n",
       "2       Legend 1 Pramila Nagar    \n",
       "3              Unnamed Property   \n",
       "4              Unnamed Property   \n",
       "\n",
       "                                            Location            Region  \\\n",
       "0                      W E Highway Malad East Mumbai      Malad Mumbai   \n",
       "1                               Manpada Thane Mumbai     Manpada Thane   \n",
       "2                                Dahisar West Mumbai    Dahisar Mumbai   \n",
       "3  Vidyavihar West Vidyavihar West Central Mumbai...    Central Mumbai   \n",
       "4  176 Cst Road Kalina Mumbai 400098 Santacruz Ea...  Santacruz Mumbai   \n",
       "\n",
       "   Property_Age   Availability            Area_Tpye  Area_SqFt  Rate_SqFt  \\\n",
       "0   0 to 1 Year  Ready To Move  Super Built Up Area     2900.0      17241   \n",
       "1   1 to 5 Year  Ready To Move  Super Built Up Area     1900.0      12631   \n",
       "2      10+ Year  Ready To Move  Super Built Up Area      595.0      15966   \n",
       "3  5 to 10 Year  Ready To Move        Built Up Area     1450.0      25862   \n",
       "4  5 to 10 Year  Ready To Move          Carpet Area      876.0      39954   \n",
       "\n",
       "   Floor_No  Bedroom  Bathroom  Price_Lakh  \n",
       "0        14        3         4       500.0  \n",
       "1         8        3         3       240.0  \n",
       "2         3        1         2        95.0  \n",
       "3         1        3         3       375.0  \n",
       "4         5        2         2       350.0  "
      ]
     },
     "execution_count": 9,
     "metadata": {},
     "output_type": "execute_result"
    }
   ],
   "source": [
    "mum_prop.head()"
   ]
  },
  {
   "cell_type": "code",
   "execution_count": 10,
   "id": "8b61ee95",
   "metadata": {},
   "outputs": [
    {
     "name": "stdout",
     "output_type": "stream",
     "text": [
      "Shape of data : (2531, 8)\n"
     ]
    }
   ],
   "source": [
    "mum_prop.drop(columns=['Property_Name', 'Location','Availability','Bathroom'], inplace =  True)\n",
    "print('Shape of data :', mum_prop.shape)"
   ]
  },
  {
   "cell_type": "markdown",
   "id": "3ccc3582",
   "metadata": {},
   "source": [
    "### 4.2 Label Encoding for Categorical Columns"
   ]
  },
  {
   "cell_type": "code",
   "execution_count": 11,
   "id": "48b968cc",
   "metadata": {},
   "outputs": [],
   "source": [
    "le = LabelEncoder()"
   ]
  },
  {
   "cell_type": "code",
   "execution_count": 12,
   "id": "92c3169a",
   "metadata": {},
   "outputs": [],
   "source": [
    "for column in mum_prop.describe(include='object').columns:\n",
    "    mum_prop[column] = le.fit_transform(mum_prop[column])"
   ]
  },
  {
   "cell_type": "code",
   "execution_count": 13,
   "id": "ac7950c8",
   "metadata": {},
   "outputs": [
    {
     "data": {
      "text/html": [
       "<div>\n",
       "<style scoped>\n",
       "    .dataframe tbody tr th:only-of-type {\n",
       "        vertical-align: middle;\n",
       "    }\n",
       "\n",
       "    .dataframe tbody tr th {\n",
       "        vertical-align: top;\n",
       "    }\n",
       "\n",
       "    .dataframe thead th {\n",
       "        text-align: right;\n",
       "    }\n",
       "</style>\n",
       "<table border=\"1\" class=\"dataframe\">\n",
       "  <thead>\n",
       "    <tr style=\"text-align: right;\">\n",
       "      <th></th>\n",
       "      <th>count</th>\n",
       "      <th>mean</th>\n",
       "      <th>std</th>\n",
       "      <th>min</th>\n",
       "      <th>25%</th>\n",
       "      <th>50%</th>\n",
       "      <th>75%</th>\n",
       "      <th>max</th>\n",
       "    </tr>\n",
       "  </thead>\n",
       "  <tbody>\n",
       "    <tr>\n",
       "      <th>Region</th>\n",
       "      <td>2531.0</td>\n",
       "      <td>67.56</td>\n",
       "      <td>40.60</td>\n",
       "      <td>0.0</td>\n",
       "      <td>31.0</td>\n",
       "      <td>60.0</td>\n",
       "      <td>107.0</td>\n",
       "      <td>144.0</td>\n",
       "    </tr>\n",
       "    <tr>\n",
       "      <th>Property_Age</th>\n",
       "      <td>2531.0</td>\n",
       "      <td>1.30</td>\n",
       "      <td>1.09</td>\n",
       "      <td>0.0</td>\n",
       "      <td>0.0</td>\n",
       "      <td>1.0</td>\n",
       "      <td>2.0</td>\n",
       "      <td>4.0</td>\n",
       "    </tr>\n",
       "    <tr>\n",
       "      <th>Area_Tpye</th>\n",
       "      <td>2531.0</td>\n",
       "      <td>1.74</td>\n",
       "      <td>1.18</td>\n",
       "      <td>0.0</td>\n",
       "      <td>1.0</td>\n",
       "      <td>1.0</td>\n",
       "      <td>3.0</td>\n",
       "      <td>3.0</td>\n",
       "    </tr>\n",
       "    <tr>\n",
       "      <th>Area_SqFt</th>\n",
       "      <td>2531.0</td>\n",
       "      <td>948.77</td>\n",
       "      <td>486.83</td>\n",
       "      <td>185.0</td>\n",
       "      <td>634.5</td>\n",
       "      <td>850.0</td>\n",
       "      <td>1150.0</td>\n",
       "      <td>5000.0</td>\n",
       "    </tr>\n",
       "    <tr>\n",
       "      <th>Rate_SqFt</th>\n",
       "      <td>2531.0</td>\n",
       "      <td>16553.69</td>\n",
       "      <td>10204.27</td>\n",
       "      <td>1808.0</td>\n",
       "      <td>8751.0</td>\n",
       "      <td>13636.0</td>\n",
       "      <td>22314.0</td>\n",
       "      <td>55611.0</td>\n",
       "    </tr>\n",
       "    <tr>\n",
       "      <th>Floor_No</th>\n",
       "      <td>2531.0</td>\n",
       "      <td>8.78</td>\n",
       "      <td>7.98</td>\n",
       "      <td>-1.0</td>\n",
       "      <td>3.0</td>\n",
       "      <td>6.0</td>\n",
       "      <td>12.0</td>\n",
       "      <td>55.0</td>\n",
       "    </tr>\n",
       "    <tr>\n",
       "      <th>Bedroom</th>\n",
       "      <td>2531.0</td>\n",
       "      <td>1.95</td>\n",
       "      <td>0.83</td>\n",
       "      <td>1.0</td>\n",
       "      <td>1.0</td>\n",
       "      <td>2.0</td>\n",
       "      <td>2.0</td>\n",
       "      <td>6.0</td>\n",
       "    </tr>\n",
       "    <tr>\n",
       "      <th>Price_Lakh</th>\n",
       "      <td>2531.0</td>\n",
       "      <td>161.35</td>\n",
       "      <td>162.32</td>\n",
       "      <td>13.0</td>\n",
       "      <td>66.0</td>\n",
       "      <td>110.0</td>\n",
       "      <td>197.0</td>\n",
       "      <td>1900.0</td>\n",
       "    </tr>\n",
       "  </tbody>\n",
       "</table>\n",
       "</div>"
      ],
      "text/plain": [
       "               count      mean       std     min     25%      50%      75%  \\\n",
       "Region        2531.0     67.56     40.60     0.0    31.0     60.0    107.0   \n",
       "Property_Age  2531.0      1.30      1.09     0.0     0.0      1.0      2.0   \n",
       "Area_Tpye     2531.0      1.74      1.18     0.0     1.0      1.0      3.0   \n",
       "Area_SqFt     2531.0    948.77    486.83   185.0   634.5    850.0   1150.0   \n",
       "Rate_SqFt     2531.0  16553.69  10204.27  1808.0  8751.0  13636.0  22314.0   \n",
       "Floor_No      2531.0      8.78      7.98    -1.0     3.0      6.0     12.0   \n",
       "Bedroom       2531.0      1.95      0.83     1.0     1.0      2.0      2.0   \n",
       "Price_Lakh    2531.0    161.35    162.32    13.0    66.0    110.0    197.0   \n",
       "\n",
       "                  max  \n",
       "Region          144.0  \n",
       "Property_Age      4.0  \n",
       "Area_Tpye         3.0  \n",
       "Area_SqFt      5000.0  \n",
       "Rate_SqFt     55611.0  \n",
       "Floor_No         55.0  \n",
       "Bedroom           6.0  \n",
       "Price_Lakh     1900.0  "
      ]
     },
     "execution_count": 13,
     "metadata": {},
     "output_type": "execute_result"
    }
   ],
   "source": [
    "mum_prop.describe().round(2).T"
   ]
  },
  {
   "cell_type": "code",
   "execution_count": 14,
   "id": "d4239485",
   "metadata": {},
   "outputs": [
    {
     "data": {
      "text/html": [
       "<div>\n",
       "<style scoped>\n",
       "    .dataframe tbody tr th:only-of-type {\n",
       "        vertical-align: middle;\n",
       "    }\n",
       "\n",
       "    .dataframe tbody tr th {\n",
       "        vertical-align: top;\n",
       "    }\n",
       "\n",
       "    .dataframe thead th {\n",
       "        text-align: right;\n",
       "    }\n",
       "</style>\n",
       "<table border=\"1\" class=\"dataframe\">\n",
       "  <thead>\n",
       "    <tr style=\"text-align: right;\">\n",
       "      <th></th>\n",
       "      <th>Region</th>\n",
       "      <th>Property_Age</th>\n",
       "      <th>Area_Tpye</th>\n",
       "      <th>Area_SqFt</th>\n",
       "      <th>Rate_SqFt</th>\n",
       "      <th>Floor_No</th>\n",
       "      <th>Bedroom</th>\n",
       "      <th>Price_Lakh</th>\n",
       "    </tr>\n",
       "  </thead>\n",
       "  <tbody>\n",
       "    <tr>\n",
       "      <th>0</th>\n",
       "      <td>69</td>\n",
       "      <td>0</td>\n",
       "      <td>3</td>\n",
       "      <td>2900.0</td>\n",
       "      <td>17241</td>\n",
       "      <td>14</td>\n",
       "      <td>3</td>\n",
       "      <td>500.0</td>\n",
       "    </tr>\n",
       "    <tr>\n",
       "      <th>1</th>\n",
       "      <td>73</td>\n",
       "      <td>1</td>\n",
       "      <td>3</td>\n",
       "      <td>1900.0</td>\n",
       "      <td>12631</td>\n",
       "      <td>8</td>\n",
       "      <td>3</td>\n",
       "      <td>240.0</td>\n",
       "    </tr>\n",
       "    <tr>\n",
       "      <th>2</th>\n",
       "      <td>24</td>\n",
       "      <td>2</td>\n",
       "      <td>3</td>\n",
       "      <td>595.0</td>\n",
       "      <td>15966</td>\n",
       "      <td>3</td>\n",
       "      <td>1</td>\n",
       "      <td>95.0</td>\n",
       "    </tr>\n",
       "    <tr>\n",
       "      <th>3</th>\n",
       "      <td>18</td>\n",
       "      <td>3</td>\n",
       "      <td>0</td>\n",
       "      <td>1450.0</td>\n",
       "      <td>25862</td>\n",
       "      <td>1</td>\n",
       "      <td>3</td>\n",
       "      <td>375.0</td>\n",
       "    </tr>\n",
       "    <tr>\n",
       "      <th>4</th>\n",
       "      <td>107</td>\n",
       "      <td>3</td>\n",
       "      <td>1</td>\n",
       "      <td>876.0</td>\n",
       "      <td>39954</td>\n",
       "      <td>5</td>\n",
       "      <td>2</td>\n",
       "      <td>350.0</td>\n",
       "    </tr>\n",
       "    <tr>\n",
       "      <th>...</th>\n",
       "      <td>...</td>\n",
       "      <td>...</td>\n",
       "      <td>...</td>\n",
       "      <td>...</td>\n",
       "      <td>...</td>\n",
       "      <td>...</td>\n",
       "      <td>...</td>\n",
       "      <td>...</td>\n",
       "    </tr>\n",
       "    <tr>\n",
       "      <th>2526</th>\n",
       "      <td>130</td>\n",
       "      <td>1</td>\n",
       "      <td>0</td>\n",
       "      <td>1180.0</td>\n",
       "      <td>10338</td>\n",
       "      <td>2</td>\n",
       "      <td>2</td>\n",
       "      <td>122.0</td>\n",
       "    </tr>\n",
       "    <tr>\n",
       "      <th>2527</th>\n",
       "      <td>130</td>\n",
       "      <td>0</td>\n",
       "      <td>0</td>\n",
       "      <td>1090.0</td>\n",
       "      <td>8073</td>\n",
       "      <td>11</td>\n",
       "      <td>2</td>\n",
       "      <td>88.0</td>\n",
       "    </tr>\n",
       "    <tr>\n",
       "      <th>2528</th>\n",
       "      <td>130</td>\n",
       "      <td>1</td>\n",
       "      <td>0</td>\n",
       "      <td>1295.0</td>\n",
       "      <td>10579</td>\n",
       "      <td>6</td>\n",
       "      <td>2</td>\n",
       "      <td>137.0</td>\n",
       "    </tr>\n",
       "    <tr>\n",
       "      <th>2529</th>\n",
       "      <td>130</td>\n",
       "      <td>1</td>\n",
       "      <td>0</td>\n",
       "      <td>1850.0</td>\n",
       "      <td>9243</td>\n",
       "      <td>6</td>\n",
       "      <td>3</td>\n",
       "      <td>171.0</td>\n",
       "    </tr>\n",
       "    <tr>\n",
       "      <th>2530</th>\n",
       "      <td>130</td>\n",
       "      <td>0</td>\n",
       "      <td>0</td>\n",
       "      <td>1100.0</td>\n",
       "      <td>8636</td>\n",
       "      <td>4</td>\n",
       "      <td>2</td>\n",
       "      <td>95.0</td>\n",
       "    </tr>\n",
       "  </tbody>\n",
       "</table>\n",
       "<p>2531 rows × 8 columns</p>\n",
       "</div>"
      ],
      "text/plain": [
       "      Region  Property_Age  Area_Tpye  Area_SqFt  Rate_SqFt  Floor_No  \\\n",
       "0         69             0          3     2900.0      17241        14   \n",
       "1         73             1          3     1900.0      12631         8   \n",
       "2         24             2          3      595.0      15966         3   \n",
       "3         18             3          0     1450.0      25862         1   \n",
       "4        107             3          1      876.0      39954         5   \n",
       "...      ...           ...        ...        ...        ...       ...   \n",
       "2526     130             1          0     1180.0      10338         2   \n",
       "2527     130             0          0     1090.0       8073        11   \n",
       "2528     130             1          0     1295.0      10579         6   \n",
       "2529     130             1          0     1850.0       9243         6   \n",
       "2530     130             0          0     1100.0       8636         4   \n",
       "\n",
       "      Bedroom  Price_Lakh  \n",
       "0           3       500.0  \n",
       "1           3       240.0  \n",
       "2           1        95.0  \n",
       "3           3       375.0  \n",
       "4           2       350.0  \n",
       "...       ...         ...  \n",
       "2526        2       122.0  \n",
       "2527        2        88.0  \n",
       "2528        2       137.0  \n",
       "2529        3       171.0  \n",
       "2530        2        95.0  \n",
       "\n",
       "[2531 rows x 8 columns]"
      ]
     },
     "execution_count": 14,
     "metadata": {},
     "output_type": "execute_result"
    }
   ],
   "source": [
    "mum_prop"
   ]
  },
  {
   "cell_type": "code",
   "execution_count": 15,
   "id": "98e0bfba",
   "metadata": {},
   "outputs": [
    {
     "name": "stdout",
     "output_type": "stream",
     "text": [
      "<class 'pandas.core.frame.DataFrame'>\n",
      "Index: 2531 entries, 0 to 2530\n",
      "Data columns (total 8 columns):\n",
      " #   Column        Non-Null Count  Dtype  \n",
      "---  ------        --------------  -----  \n",
      " 0   Region        2531 non-null   int64  \n",
      " 1   Property_Age  2531 non-null   int64  \n",
      " 2   Area_Tpye     2531 non-null   int64  \n",
      " 3   Area_SqFt     2531 non-null   float64\n",
      " 4   Rate_SqFt     2531 non-null   int64  \n",
      " 5   Floor_No      2531 non-null   int64  \n",
      " 6   Bedroom       2531 non-null   int64  \n",
      " 7   Price_Lakh    2531 non-null   float64\n",
      "dtypes: float64(2), int64(6)\n",
      "memory usage: 178.0 KB\n"
     ]
    }
   ],
   "source": [
    "mum_prop.info()"
   ]
  },
  {
   "cell_type": "markdown",
   "id": "6cdc63ac",
   "metadata": {},
   "source": [
    "### 4.3 Looking for Minimum & Maximum"
   ]
  },
  {
   "cell_type": "code",
   "execution_count": 16,
   "id": "0d5ecd17",
   "metadata": {},
   "outputs": [
    {
     "name": "stdout",
     "output_type": "stream",
     "text": [
      "Region Min value : 0 Max value : 144\n",
      "Property_Age Min value : 0 Max value : 4\n",
      "Area_Tpye Min value : 0 Max value : 3\n",
      "Area_SqFt Min value : 185.0 Max value : 5000.0\n",
      "Rate_SqFt Min value : 1808 Max value : 55611\n",
      "Floor_No Min value : -1 Max value : 55\n",
      "Bedroom Min value : 1 Max value : 6\n",
      "Price_Lakh Min value : 13.0 Max value : 1900.0\n"
     ]
    }
   ],
   "source": [
    "for i in mum_prop.columns:  \n",
    "    print(i,'Min value :', mum_prop[i].min(),'Max value :', mum_prop[i].max())"
   ]
  },
  {
   "cell_type": "markdown",
   "id": "7124fb62",
   "metadata": {},
   "source": [
    "### 4.4 Correlation Heatmap"
   ]
  },
  {
   "cell_type": "code",
   "execution_count": 17,
   "id": "c8ddb66b",
   "metadata": {},
   "outputs": [
    {
     "data": {
      "image/png": "[encoded data removed]",
      "text/plain": [
       "<Figure size 900x800 with 2 Axes>"
      ]
     },
     "metadata": {},
     "output_type": "display_data"
    }
   ],
   "source": [
    "fig = plt.figure( figsize =(9,8))\n",
    "rcParams = {'xtick.labelsize':'14','ytick.labelsize':'14','axes.labelsize':'16'}\n",
    "sns.heatmap(mum_prop.corr(),annot = True, linewidths=.5, cbar_kws={\"shrink\": .5},fmt='.2f', cmap='coolwarm')\n",
    "fig.suptitle('Heatmap Mumbai Property Data',fontsize=18, fontweight=\"bold\")\n",
    "pylab.rcParams.update(rcParams)\n",
    "fig.tight_layout()\n",
    "plt.show()\n",
    "\n",
    "#fig.savefig('Heatmap_Encoding', dpi = 250)"
   ]
  },
  {
   "cell_type": "markdown",
   "id": "4ef19cf0",
   "metadata": {},
   "source": [
    "## 5. Model Building"
   ]
  },
  {
   "cell_type": "code",
   "execution_count": 18,
   "id": "e1063848",
   "metadata": {},
   "outputs": [
    {
     "data": {
      "text/html": [
       "<div>\n",
       "<style scoped>\n",
       "    .dataframe tbody tr th:only-of-type {\n",
       "        vertical-align: middle;\n",
       "    }\n",
       "\n",
       "    .dataframe tbody tr th {\n",
       "        vertical-align: top;\n",
       "    }\n",
       "\n",
       "    .dataframe thead th {\n",
       "        text-align: right;\n",
       "    }\n",
       "</style>\n",
       "<table border=\"1\" class=\"dataframe\">\n",
       "  <thead>\n",
       "    <tr style=\"text-align: right;\">\n",
       "      <th></th>\n",
       "      <th>Region</th>\n",
       "      <th>Property_Age</th>\n",
       "      <th>Area_Tpye</th>\n",
       "      <th>Area_SqFt</th>\n",
       "      <th>Rate_SqFt</th>\n",
       "      <th>Floor_No</th>\n",
       "      <th>Bedroom</th>\n",
       "      <th>Price_Lakh</th>\n",
       "    </tr>\n",
       "  </thead>\n",
       "  <tbody>\n",
       "    <tr>\n",
       "      <th>0</th>\n",
       "      <td>69</td>\n",
       "      <td>0</td>\n",
       "      <td>3</td>\n",
       "      <td>2900.0</td>\n",
       "      <td>17241</td>\n",
       "      <td>14</td>\n",
       "      <td>3</td>\n",
       "      <td>500.0</td>\n",
       "    </tr>\n",
       "    <tr>\n",
       "      <th>1</th>\n",
       "      <td>73</td>\n",
       "      <td>1</td>\n",
       "      <td>3</td>\n",
       "      <td>1900.0</td>\n",
       "      <td>12631</td>\n",
       "      <td>8</td>\n",
       "      <td>3</td>\n",
       "      <td>240.0</td>\n",
       "    </tr>\n",
       "    <tr>\n",
       "      <th>2</th>\n",
       "      <td>24</td>\n",
       "      <td>2</td>\n",
       "      <td>3</td>\n",
       "      <td>595.0</td>\n",
       "      <td>15966</td>\n",
       "      <td>3</td>\n",
       "      <td>1</td>\n",
       "      <td>95.0</td>\n",
       "    </tr>\n",
       "    <tr>\n",
       "      <th>3</th>\n",
       "      <td>18</td>\n",
       "      <td>3</td>\n",
       "      <td>0</td>\n",
       "      <td>1450.0</td>\n",
       "      <td>25862</td>\n",
       "      <td>1</td>\n",
       "      <td>3</td>\n",
       "      <td>375.0</td>\n",
       "    </tr>\n",
       "    <tr>\n",
       "      <th>4</th>\n",
       "      <td>107</td>\n",
       "      <td>3</td>\n",
       "      <td>1</td>\n",
       "      <td>876.0</td>\n",
       "      <td>39954</td>\n",
       "      <td>5</td>\n",
       "      <td>2</td>\n",
       "      <td>350.0</td>\n",
       "    </tr>\n",
       "  </tbody>\n",
       "</table>\n",
       "</div>"
      ],
      "text/plain": [
       "   Region  Property_Age  Area_Tpye  Area_SqFt  Rate_SqFt  Floor_No  Bedroom  \\\n",
       "0      69             0          3     2900.0      17241        14        3   \n",
       "1      73             1          3     1900.0      12631         8        3   \n",
       "2      24             2          3      595.0      15966         3        1   \n",
       "3      18             3          0     1450.0      25862         1        3   \n",
       "4     107             3          1      876.0      39954         5        2   \n",
       "\n",
       "   Price_Lakh  \n",
       "0       500.0  \n",
       "1       240.0  \n",
       "2        95.0  \n",
       "3       375.0  \n",
       "4       350.0  "
      ]
     },
     "execution_count": 18,
     "metadata": {},
     "output_type": "execute_result"
    }
   ],
   "source": [
    "mum_prop.head()"
   ]
  },
  {
   "cell_type": "markdown",
   "id": "f5ecf5cf",
   "metadata": {},
   "source": [
    "### 5.1 Train Test Split"
   ]
  },
  {
   "cell_type": "code",
   "execution_count": 19,
   "id": "891a501c",
   "metadata": {
    "scrolled": false
   },
   "outputs": [],
   "source": [
    "X =  mum_prop.drop('Price_Lakh', axis = 1)\n",
    "y =  mum_prop['Price_Lakh']"
   ]
  },
  {
   "cell_type": "code",
   "execution_count": 20,
   "id": "2197ea54",
   "metadata": {},
   "outputs": [],
   "source": [
    "X_train, X_test, y_train, y_test = train_test_split(X, y, test_size= 0.20, random_state = 12)"
   ]
  },
  {
   "cell_type": "code",
   "execution_count": 21,
   "id": "4f0e4534",
   "metadata": {},
   "outputs": [
    {
     "name": "stdout",
     "output_type": "stream",
     "text": [
      "(2024, 7) (507, 7)\n"
     ]
    }
   ],
   "source": [
    "print(X_train.shape, X_test.shape)"
   ]
  },
  {
   "cell_type": "markdown",
   "id": "9feafe60",
   "metadata": {},
   "source": [
    "### 5.2 Linear Regression"
   ]
  },
  {
   "cell_type": "code",
   "execution_count": 22,
   "id": "bcf26aef",
   "metadata": {},
   "outputs": [
    {
     "name": "stdout",
     "output_type": "stream",
     "text": [
      "Training Accuracy =  0.8729615274576086\n",
      "Test Accuracy     =  0.8696528670699653\n"
     ]
    }
   ],
   "source": [
    "from sklearn.linear_model import LinearRegression\n",
    "\n",
    "linear = LinearRegression()\n",
    "linear.fit(X_train, y_train)\n",
    "\n",
    "print(\"Training Accuracy = \", linear.score(X_train, y_train))\n",
    "print(\"Test Accuracy     = \", linear.score(X_test, y_test))"
   ]
  },
  {
   "cell_type": "markdown",
   "id": "c1f5229e",
   "metadata": {},
   "source": [
    "### 5.3 Decision Tree Regressor"
   ]
  },
  {
   "cell_type": "code",
   "execution_count": 23,
   "id": "b74822b0",
   "metadata": {},
   "outputs": [
    {
     "name": "stdout",
     "output_type": "stream",
     "text": [
      "Training Accuracy =  1.0\n",
      "Test Accuracy     =  0.9329720698192366\n"
     ]
    }
   ],
   "source": [
    "from sklearn.tree import DecisionTreeRegressor\n",
    "\n",
    "dt = DecisionTreeRegressor(min_samples_split=2)\n",
    "dt.fit(X_train, y_train)\n",
    "\n",
    "print(\"Training Accuracy = \", dt.score(X_train, y_train))\n",
    "print(\"Test Accuracy     = \", dt.score(X_test, y_test))"
   ]
  },
  {
   "cell_type": "markdown",
   "id": "efb5f9f4",
   "metadata": {},
   "source": [
    "### 5.4 Random Forest Regressor"
   ]
  },
  {
   "cell_type": "code",
   "execution_count": 24,
   "id": "4e9b0cf3",
   "metadata": {
    "scrolled": true
   },
   "outputs": [
    {
     "name": "stdout",
     "output_type": "stream",
     "text": [
      "Training Accuracy =  0.9753917006228885\n",
      "Test Accuracy     =  0.9641944588626601\n"
     ]
    }
   ],
   "source": [
    "from sklearn.ensemble import RandomForestRegressor\n",
    "\n",
    "rf = RandomForestRegressor(n_estimators = 1000, max_depth=5, random_state = 12)\n",
    "rf.fit(X_train, y_train);\n",
    "\n",
    "print(\"Training Accuracy = \", rf.score(X_train, y_train))\n",
    "print(\"Test Accuracy     = \", rf.score(X_test, y_test))"
   ]
  },
  {
   "cell_type": "markdown",
   "id": "9940e59b",
   "metadata": {},
   "source": [
    "### 5.5 Polynomial Features"
   ]
  },
  {
   "cell_type": "code",
   "execution_count": 25,
   "id": "1bb47bd0",
   "metadata": {},
   "outputs": [
    {
     "name": "stdout",
     "output_type": "stream",
     "text": [
      "Training Accuracy =  0.9903850350980973\n",
      "Test Accuracy     =  0.9821027587862007\n"
     ]
    }
   ],
   "source": [
    "from sklearn.pipeline import Pipeline\n",
    "from sklearn.preprocessing import PolynomialFeatures\n",
    "\n",
    "poly = PolynomialFeatures(degree=2)\n",
    "poly.fit_transform(X)\n",
    "\n",
    "# Define the pipeline and train model\n",
    "poly_model = Pipeline([('poly', PolynomialFeatures(degree=2)),\n",
    "                       ('rf', RandomForestRegressor(n_estimators = 1000, max_depth=5, random_state = 12))])\n",
    "poly_model.fit(X_train, y_train)\n",
    "\n",
    "# Calculate the Score\n",
    "print(\"Training Accuracy = \", poly_model.score(X_train, y_train))\n",
    "print(\"Test Accuracy     = \", poly_model.score(X_test, y_test))"
   ]
  },
  {
   "cell_type": "code",
   "execution_count": 27,
   "id": "29d36ee5",
   "metadata": {},
   "outputs": [
    {
     "name": "stdout",
     "output_type": "stream",
     "text": [
      "Training Accuracy =  0.9832978154650837\n",
      "Test Accuracy     =  0.9873735095015603\n"
     ]
    }
   ],
   "source": [
    "from sklearn.pipeline import Pipeline\n",
    "from sklearn.preprocessing import PolynomialFeatures\n",
    "\n",
    "poly = PolynomialFeatures(degree=2)\n",
    "poly.fit_transform(X)\n",
    "\n",
    "# Define the pipeline and train model\n",
    "poly_model = Pipeline([('poly', PolynomialFeatures(degree=2)), ('linear', LinearRegression(fit_intercept=False))])\n",
    "poly_model.fit(X_train, y_train)\n",
    "\n",
    "# Calculate the Score\n",
    "print(\"Training Accuracy = \", poly_model.score(X_train, y_train))\n",
    "print(\"Test Accuracy     = \", poly_model.score(X_test, y_test))"
   ]
  },
  {
   "cell_type": "markdown",
   "id": "2fa261c7",
   "metadata": {},
   "source": [
    "## Obeservaion :\n",
    "### 1. We select the final model - Polynomial Feature.\n",
    "### 2. We got 98.73 % Model Accuracy."
   ]
  },
  {
   "cell_type": "markdown",
   "id": "4c0d4a4b",
   "metadata": {},
   "source": [
    "## 6. Final Model Evaluation"
   ]
  },
  {
   "cell_type": "code",
   "execution_count": 28,
   "id": "2d67f589",
   "metadata": {},
   "outputs": [],
   "source": [
    "def evaluate(model, test_features, test_labels):\n",
    "    predictions = model.predict(test_features)\n",
    "    errors = abs(predictions - test_labels)\n",
    "    accuracy = model.score(test_features, test_labels)\n",
    "\n",
    "    print('Average Error  = {:0.4f} degrees'.format(np.mean(errors)))\n",
    "    print('Model Accuracy = {:0.4f} %'.format(accuracy))"
   ]
  },
  {
   "cell_type": "code",
   "execution_count": 29,
   "id": "a955ad32",
   "metadata": {},
   "outputs": [
    {
     "name": "stdout",
     "output_type": "stream",
     "text": [
      "Average Error  = 8.1346 degrees\n",
      "Model Accuracy = 0.9833 %\n"
     ]
    }
   ],
   "source": [
    "evaluate(poly_model, X_train, y_train)"
   ]
  },
  {
   "cell_type": "code",
   "execution_count": 30,
   "id": "37494896",
   "metadata": {},
   "outputs": [
    {
     "name": "stdout",
     "output_type": "stream",
     "text": [
      "Average Error  = 8.7685 degrees\n",
      "Model Accuracy = 0.9874 %\n"
     ]
    }
   ],
   "source": [
    "evaluate(poly_model, X_test, y_test)"
   ]
  },
  {
   "cell_type": "markdown",
   "id": "106e432a",
   "metadata": {},
   "source": [
    "### 6.1 Visualizing Results"
   ]
  },
  {
   "cell_type": "code",
   "execution_count": 31,
   "id": "09bb93ec",
   "metadata": {},
   "outputs": [],
   "source": [
    "pred = poly_model.predict(X_test)"
   ]
  },
  {
   "cell_type": "code",
   "execution_count": 36,
   "id": "6db9592b",
   "metadata": {},
   "outputs": [
    {
     "data": {
      "image/png": "[encoded data removed]",
      "text/plain": [
       "<Figure size 800x700 with 1 Axes>"
      ]
     },
     "metadata": {},
     "output_type": "display_data"
    }
   ],
   "source": [
    "fig = plt.figure(figsize=(8,7))\n",
    "\n",
    "# Pass x and y as keyword arguments\n",
    "sns.scatterplot(x=y_test, y=pred)\n",
    "\n",
    "fig.suptitle('Prediction using Polynomial', fontsize=18, fontweight='bold')\n",
    "plt.xlabel(\"Actual\")\n",
    "plt.ylabel(\"Prediction\")\n",
    "\n",
    "# Update any plotting parameters if necessary\n",
    "pylab.rcParams.update(rcParams)\n",
    "\n",
    "# Adjust layout to prevent clipping of titles and labels\n",
    "fig.tight_layout()\n",
    "fig.subplots_adjust(top=0.92)\n",
    "\n",
    "plt.show()\n",
    "\n",
    "# fig.savefig('Prediction_Polynomial', dpi=500)\n"
   ]
  },
  {
   "cell_type": "markdown",
   "id": "37ff0f34",
   "metadata": {},
   "source": [
    "## 7. Model Deployement"
   ]
  },
  {
   "cell_type": "code",
   "execution_count": 38,
   "id": "187f0fc4",
   "metadata": {},
   "outputs": [],
   "source": [
    "from pickle import dump"
   ]
  },
  {
   "cell_type": "code",
   "execution_count": 39,
   "id": "ffd19f0c",
   "metadata": {},
   "outputs": [],
   "source": [
    "dump(poly_model,open('regression_model.pkl','wb'))"
   ]
  },
  {
   "cell_type": "markdown",
   "id": "ac91d2e6",
   "metadata": {},
   "source": [
    "# The End !!!"
   ]
  }
 ],
 "metadata": {
  "kernelspec": {
   "display_name": "private",
   "language": "python",
   "name": "python3"
  },
  "language_info": {
   "codemirror_mode": {
    "name": "ipython",
    "version": 3
   },
   "file_extension": ".py",
   "mimetype": "text/x-python",
   "name": "python",
   "nbconvert_exporter": "python",
   "pygments_lexer": "ipython3",
   "version": "3.13.0"
  }
 },
 "nbformat": 4,
 "nbformat_minor": 5
}
